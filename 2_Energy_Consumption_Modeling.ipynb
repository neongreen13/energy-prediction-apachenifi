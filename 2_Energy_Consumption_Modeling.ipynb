{
 "cells": [
  {
   "cell_type": "markdown",
   "id": "368d95af",
   "metadata": {},
   "source": [
    "# Building Energy Consumption Modeling"
   ]
  },
  {
   "cell_type": "code",
   "execution_count": 36,
   "id": "f60d3276",
   "metadata": {},
   "outputs": [],
   "source": [
    "import os\n",
    "import sys\n",
    "import numpy as np\n",
    "import pandas as pd\n",
    "import seaborn as sns\n",
    "import matplotlib.pyplot as plt\n",
    "from sklearn.preprocessing import StandardScaler\n",
    "import statsmodels.api as sm\n",
    "from sklearn.model_selection import train_test_split\n",
    "from sklearn.linear_model import LogisticRegression\n",
    "from sklearn.metrics import accuracy_score, classification_report\n",
    "import pickle"
   ]
  },
  {
   "cell_type": "code",
   "execution_count": 109,
   "id": "f5402343",
   "metadata": {},
   "outputs": [],
   "source": [
    "file_name = 'Weather_and_Energy_dataset.csv' # this file has been saved from the last notebook\n",
    "data_path = os.getcwd()"
   ]
  },
  {
   "cell_type": "code",
   "execution_count": 38,
   "id": "7096eb3d",
   "metadata": {},
   "outputs": [
    {
     "name": "stdout",
     "output_type": "stream",
     "text": [
      "(25383, 7)\n"
     ]
    }
   ],
   "source": [
    "df = pd.read_csv(data_path + file_name)\n",
    "print(df.shape)"
   ]
  },
  {
   "cell_type": "code",
   "execution_count": 39,
   "id": "eb2a12b9",
   "metadata": {},
   "outputs": [
    {
     "data": {
      "text/plain": [
       "Index(['temp', 'humidity', 'wind_speed', 'pressure', 'dew_point', 'date',\n",
       "       'hvac_S'],\n",
       "      dtype='object')"
      ]
     },
     "execution_count": 39,
     "metadata": {},
     "output_type": "execute_result"
    }
   ],
   "source": [
    "df.columns "
   ]
  },
  {
   "cell_type": "code",
   "execution_count": 57,
   "id": "8c40088a",
   "metadata": {},
   "outputs": [
    {
     "data": {
      "text/plain": [
       "count    24997.000000\n",
       "mean        19.662879\n",
       "std         12.934880\n",
       "min          0.000000\n",
       "25%         10.049500\n",
       "50%         20.905000\n",
       "75%         26.660000\n",
       "max         75.200000\n",
       "Name: hvac_S, dtype: float64"
      ]
     },
     "execution_count": 57,
     "metadata": {},
     "output_type": "execute_result"
    }
   ],
   "source": [
    "# Find the standard deviation and the range of data\n",
    "df['hvac_S'].describe()"
   ]
  },
  {
   "cell_type": "code",
   "execution_count": 56,
   "id": "6da420cd",
   "metadata": {},
   "outputs": [
    {
     "data": {
      "image/png": "[encoded data removed]",
      "text/plain": [
       "<Figure size 432x288 with 1 Axes>"
      ]
     },
     "metadata": {
      "needs_background": "light"
     },
     "output_type": "display_data"
    }
   ],
   "source": [
    "# Plot a histogram to view the dispersion of the data\n",
    "plt.hist(df['hvac_S'], bins=20, color='yellow', edgecolor='black')\n",
    "plt.title('Histogram of hvac_S')\n",
    "plt.xlabel('hvac_S')\n",
    "plt.ylabel('Frequency')\n",
    "plt.show()"
   ]
  },
  {
   "cell_type": "code",
   "execution_count": 58,
   "id": "8e87e2b2",
   "metadata": {},
   "outputs": [
    {
     "data": {
      "image/png": "[encoded data removed]",
      "text/plain": [
       "<Figure size 432x288 with 1 Axes>"
      ]
     },
     "metadata": {
      "needs_background": "light"
     },
     "output_type": "display_data"
    }
   ],
   "source": [
    "# Create a boxplot to identify potential outliers and high-energy consumption days\n",
    "sns.boxplot(x=df['hvac_S'])\n",
    "plt.title('Boxplot of hvac_S')\n",
    "plt.show()"
   ]
  },
  {
   "cell_type": "code",
   "execution_count": 63,
   "id": "5a9f844e",
   "metadata": {},
   "outputs": [
    {
     "name": "stdout",
     "output_type": "stream",
     "text": [
      "70th percentile threshold: 25.41666667\n",
      "80th percentile threshold: 28.075\n",
      "85th percentile threshold: 30.17936842\n",
      "90th percentile threshold: 35.565345620000016\n",
      "95th percentile threshold: 42.76386996999998\n",
      "99th percentile threshold: 52.83142857280006\n"
     ]
    }
   ],
   "source": [
    "percentiles = [70, 80, 85, 90, 95, 99]\n",
    "for p in percentiles:\n",
    "    threshold = df['hvac_S'].quantile(p / 100)\n",
    "    print(f'{p}th percentile threshold: {threshold}')"
   ]
  },
  {
   "cell_type": "markdown",
   "id": "161493b2",
   "metadata": {},
   "source": [
    "Convert Target Variable"
   ]
  },
  {
   "cell_type": "code",
   "execution_count": 82,
   "id": "ba278eeb",
   "metadata": {},
   "outputs": [
    {
     "name": "stdout",
     "output_type": "stream",
     "text": [
      "0    70.460544\n",
      "1    29.539456\n",
      "Name: high_energy_day, dtype: float64\n"
     ]
    },
    {
     "data": {
      "image/png": "[encoded data removed]",
      "text/plain": [
       "<Figure size 432x288 with 1 Axes>"
      ]
     },
     "metadata": {
      "needs_background": "light"
     },
     "output_type": "display_data"
    }
   ],
   "source": [
    "# Set the threshold based on the 80th percentile\n",
    "threshold_percentile = df['hvac_S'].quantile(0.70)\n",
    "\n",
    "# Create the binary variable\n",
    "df['high_energy_day'] = (df['hvac_S'] > threshold_percentile).astype(int)\n",
    "\n",
    "# Display the counts of the new binary variable\n",
    "print(df['high_energy_day'].value_counts(normalize=True) * 100)\n",
    "\n",
    "# Optionally, you can plot a histogram of the new binary variable\n",
    "plt.hist(df['high_energy_day'], bins=[-0.5, 0.5, 1.5], color='green', edgecolor='black')\n",
    "plt.title('High Energy Day Binary Variable')\n",
    "plt.xlabel('High Energy Day (0 or 1)')\n",
    "plt.ylabel('Frequency')\n",
    "plt.xticks([0, 1], ['Below Threshold', 'Above Threshold'])\n",
    "plt.show()\n"
   ]
  },
  {
   "cell_type": "code",
   "execution_count": 104,
   "id": "38cfcfd4",
   "metadata": {},
   "outputs": [],
   "source": [
    "# Scale and select relevant features\n",
    "scaler = StandardScaler()\n",
    "numerical_cols = ['temp', 'humidity', 'wind_speed', 'pressure', ] #'dew_point'\n",
    "df[numerical_cols] = scaler.fit_transform(df[numerical_cols])"
   ]
  },
  {
   "cell_type": "code",
   "execution_count": 105,
   "id": "de1d4deb",
   "metadata": {},
   "outputs": [],
   "source": [
    "# Split dataset\n",
    "X = df.drop(['hvac_S', 'high_energy_day', 'date', 'dew_point'], axis=1)  \n",
    "y = df['high_energy_day']\n",
    "\n",
    "X_train, X_test, y_train, y_test = train_test_split(X, y, test_size=0.2, random_state=42)"
   ]
  },
  {
   "cell_type": "code",
   "execution_count": 102,
   "id": "baadaa27",
   "metadata": {},
   "outputs": [
    {
     "name": "stdout",
     "output_type": "stream",
     "text": [
      "Optimization terminated successfully.\n",
      "         Current function value: 0.500989\n",
      "         Iterations 6\n"
     ]
    }
   ],
   "source": [
    "# Adding a constant term to the features matrix for statsmodels\n",
    "X_train = sm.add_constant(X_train)\n",
    "\n",
    "# Building and Training the Model using statsmodels\n",
    "model = sm.Logit(y_train, X_train)\n",
    "result = model.fit()"
   ]
  },
  {
   "cell_type": "code",
   "execution_count": 103,
   "id": "553c8724",
   "metadata": {},
   "outputs": [
    {
     "data": {
      "text/html": [
       "<table class=\"simpletable\">\n",
       "<caption>Logit Regression Results</caption>\n",
       "<tr>\n",
       "  <th>Dep. Variable:</th>    <td>high_energy_day</td> <th>  No. Observations:  </th>  <td> 20306</td> \n",
       "</tr>\n",
       "<tr>\n",
       "  <th>Model:</th>                 <td>Logit</td>      <th>  Df Residuals:      </th>  <td> 20301</td> \n",
       "</tr>\n",
       "<tr>\n",
       "  <th>Method:</th>                 <td>MLE</td>       <th>  Df Model:          </th>  <td>     4</td> \n",
       "</tr>\n",
       "<tr>\n",
       "  <th>Date:</th>            <td>Mon, 05 Feb 2024</td> <th>  Pseudo R-squ.:     </th>  <td>0.1749</td> \n",
       "</tr>\n",
       "<tr>\n",
       "  <th>Time:</th>                <td>21:07:57</td>     <th>  Log-Likelihood:    </th> <td> -10173.</td>\n",
       "</tr>\n",
       "<tr>\n",
       "  <th>converged:</th>             <td>True</td>       <th>  LL-Null:           </th> <td> -12330.</td>\n",
       "</tr>\n",
       "<tr>\n",
       "  <th>Covariance Type:</th>     <td>nonrobust</td>    <th>  LLR p-value:       </th>  <td> 0.000</td> \n",
       "</tr>\n",
       "</table>\n",
       "<table class=\"simpletable\">\n",
       "<tr>\n",
       "       <td></td>         <th>coef</th>     <th>std err</th>      <th>z</th>      <th>P>|z|</th>  <th>[0.025</th>    <th>0.975]</th>  \n",
       "</tr>\n",
       "<tr>\n",
       "  <th>const</th>      <td>   -1.0410</td> <td>    0.018</td> <td>  -57.875</td> <td> 0.000</td> <td>   -1.076</td> <td>   -1.006</td>\n",
       "</tr>\n",
       "<tr>\n",
       "  <th>temp</th>       <td>    1.1141</td> <td>    0.026</td> <td>   43.162</td> <td> 0.000</td> <td>    1.064</td> <td>    1.165</td>\n",
       "</tr>\n",
       "<tr>\n",
       "  <th>humidity</th>   <td>   -0.0666</td> <td>    0.022</td> <td>   -3.080</td> <td> 0.002</td> <td>   -0.109</td> <td>   -0.024</td>\n",
       "</tr>\n",
       "<tr>\n",
       "  <th>wind_speed</th> <td>   -0.1306</td> <td>    0.018</td> <td>   -7.098</td> <td> 0.000</td> <td>   -0.167</td> <td>   -0.095</td>\n",
       "</tr>\n",
       "<tr>\n",
       "  <th>pressure</th>   <td>    0.0508</td> <td>    0.021</td> <td>    2.401</td> <td> 0.016</td> <td>    0.009</td> <td>    0.092</td>\n",
       "</tr>\n",
       "</table>"
      ],
      "text/latex": [
       "\\begin{center}\n",
       "\\begin{tabular}{lclc}\n",
       "\\toprule\n",
       "\\textbf{Dep. Variable:}   & high\\_energy\\_day & \\textbf{  No. Observations:  } &    20306    \\\\\n",
       "\\textbf{Model:}           &       Logit       & \\textbf{  Df Residuals:      } &    20301    \\\\\n",
       "\\textbf{Method:}          &        MLE        & \\textbf{  Df Model:          } &        4    \\\\\n",
       "\\textbf{Date:}            &  Mon, 05 Feb 2024 & \\textbf{  Pseudo R-squ.:     } &   0.1749    \\\\\n",
       "\\textbf{Time:}            &      21:07:57     & \\textbf{  Log-Likelihood:    } &   -10173.   \\\\\n",
       "\\textbf{converged:}       &        True       & \\textbf{  LL-Null:           } &   -12330.   \\\\\n",
       "\\textbf{Covariance Type:} &     nonrobust     & \\textbf{  LLR p-value:       } &    0.000    \\\\\n",
       "\\bottomrule\n",
       "\\end{tabular}\n",
       "\\begin{tabular}{lcccccc}\n",
       "                     & \\textbf{coef} & \\textbf{std err} & \\textbf{z} & \\textbf{P$> |$z$|$} & \\textbf{[0.025} & \\textbf{0.975]}  \\\\\n",
       "\\midrule\n",
       "\\textbf{const}       &      -1.0410  &        0.018     &   -57.875  &         0.000        &       -1.076    &       -1.006     \\\\\n",
       "\\textbf{temp}        &       1.1141  &        0.026     &    43.162  &         0.000        &        1.064    &        1.165     \\\\\n",
       "\\textbf{humidity}    &      -0.0666  &        0.022     &    -3.080  &         0.002        &       -0.109    &       -0.024     \\\\\n",
       "\\textbf{wind\\_speed} &      -0.1306  &        0.018     &    -7.098  &         0.000        &       -0.167    &       -0.095     \\\\\n",
       "\\textbf{pressure}    &       0.0508  &        0.021     &     2.401  &         0.016        &        0.009    &        0.092     \\\\\n",
       "\\bottomrule\n",
       "\\end{tabular}\n",
       "%\\caption{Logit Regression Results}\n",
       "\\end{center}"
      ],
      "text/plain": [
       "<class 'statsmodels.iolib.summary.Summary'>\n",
       "\"\"\"\n",
       "                           Logit Regression Results                           \n",
       "==============================================================================\n",
       "Dep. Variable:        high_energy_day   No. Observations:                20306\n",
       "Model:                          Logit   Df Residuals:                    20301\n",
       "Method:                           MLE   Df Model:                            4\n",
       "Date:                Mon, 05 Feb 2024   Pseudo R-squ.:                  0.1749\n",
       "Time:                        21:07:57   Log-Likelihood:                -10173.\n",
       "converged:                       True   LL-Null:                       -12330.\n",
       "Covariance Type:            nonrobust   LLR p-value:                     0.000\n",
       "==============================================================================\n",
       "                 coef    std err          z      P>|z|      [0.025      0.975]\n",
       "------------------------------------------------------------------------------\n",
       "const         -1.0410      0.018    -57.875      0.000      -1.076      -1.006\n",
       "temp           1.1141      0.026     43.162      0.000       1.064       1.165\n",
       "humidity      -0.0666      0.022     -3.080      0.002      -0.109      -0.024\n",
       "wind_speed    -0.1306      0.018     -7.098      0.000      -0.167      -0.095\n",
       "pressure       0.0508      0.021      2.401      0.016       0.009       0.092\n",
       "==============================================================================\n",
       "\"\"\""
      ]
     },
     "execution_count": 103,
     "metadata": {},
     "output_type": "execute_result"
    }
   ],
   "source": [
    "# Display model summary to see significance of individual features\n",
    "result.summary()"
   ]
  },
  {
   "cell_type": "code",
   "execution_count": 106,
   "id": "c0f6fab9",
   "metadata": {},
   "outputs": [
    {
     "data": {
      "text/plain": [
       "LogisticRegression()"
      ]
     },
     "execution_count": 106,
     "metadata": {},
     "output_type": "execute_result"
    }
   ],
   "source": [
    "# Initialize and train logistic regression model\n",
    "model = LogisticRegression()\n",
    "model.fit(X_train, y_train)"
   ]
  },
  {
   "cell_type": "code",
   "execution_count": 107,
   "id": "02a9fd41",
   "metadata": {},
   "outputs": [
    {
     "name": "stdout",
     "output_type": "stream",
     "text": [
      "Accuracy: 0.7825487492613749\n",
      "              precision    recall  f1-score   support\n",
      "\n",
      "           0       0.79      0.93      0.86      3584\n",
      "           1       0.72      0.42      0.53      1493\n",
      "\n",
      "    accuracy                           0.78      5077\n",
      "   macro avg       0.76      0.68      0.70      5077\n",
      "weighted avg       0.77      0.78      0.76      5077\n",
      "\n"
     ]
    }
   ],
   "source": [
    "# Predictions on the test set\n",
    "y_pred = model.predict(X_test)\n",
    "\n",
    "# Evaluate model performance\n",
    "accuracy = accuracy_score(y_test, y_pred)\n",
    "print(\"Accuracy:\", accuracy)\n",
    "print(classification_report(y_test, y_pred))"
   ]
  },
  {
   "cell_type": "code",
   "execution_count": 111,
   "id": "dc9bf5c2",
   "metadata": {},
   "outputs": [
    {
     "name": "stdout",
     "output_type": "stream",
     "text": [
      "Model and related objects saved to logistic_regression_model.pkl\n"
     ]
    }
   ],
   "source": [
    "# Save the trained model and other necessary objects\n",
    "model_filename = 'logistic_regression_model.pkl'\n",
    "with open(data_path + model_filename, 'wb') as file:\n",
    "    pickle.dump({\n",
    "        'model': model,\n",
    "        'X_train_columns': X_train.columns,\n",
    "        'threshold_percentile': threshold_percentile\n",
    "    }, file)\n",
    "\n",
    "print(f'Model and related objects saved to {model_filename}')"
   ]
  },
  {
   "cell_type": "markdown",
   "id": "713f6aa2",
   "metadata": {},
   "source": [
    "### Energy Consumption TimeSeries Prediction"
   ]
  },
  {
   "cell_type": "markdown",
   "id": "88096c39",
   "metadata": {},
   "source": [
    "We will use a Recurrent Nueral Network (RNN) because the sequence of events is important for our time series data."
   ]
  },
  {
   "cell_type": "code",
   "execution_count": null,
   "id": "2d68e138",
   "metadata": {},
   "outputs": [],
   "source": [
    "from statsmodels.tsa.seasonal import seasonal_decompose\n",
    "from sklearn.preprocessing import MinMaxScaler\n",
    "from keras.preprocessing.sequence import TimeseriesGenerator\n",
    "from tensorflow.keras.models import Sequential\n",
    "from tensorflow.keras.layers import LSTM, Dense\n",
    "from sklearn.metrics import mean_squared_error\n",
    "from math import sqrt"
   ]
  },
  {
   "cell_type": "code",
   "execution_count": null,
   "id": "7dd2140a",
   "metadata": {},
   "outputs": [],
   "source": [
    "# Convert date feature \n",
    "df = df.copy()\n",
    "df['date'] = pd.to_datetime(df['date'])\n",
    "df.set_index('date', inplace=True)  \n",
    "\n",
    "# Resample to hourly intervals\n",
    "df = df.resample('H').mean()"
   ]
  },
  {
   "cell_type": "code",
   "execution_count": 87,
   "id": "5ecc811a",
   "metadata": {},
   "outputs": [],
   "source": [
    "# Drop binary feature from previous section\n",
    "df.drop(columns=['hvac_S_binary'],inplace=True)"
   ]
  },
  {
   "cell_type": "code",
   "execution_count": null,
   "id": "42c06186",
   "metadata": {},
   "outputs": [],
   "source": [
    "# Impute missing values using forward fill\n",
    "df = df.fillna(method='ffill')"
   ]
  },
  {
   "cell_type": "code",
   "execution_count": null,
   "id": "026fb07b",
   "metadata": {},
   "outputs": [],
   "source": [
    "energy_df = df[['hvac_S']]"
   ]
  },
  {
   "cell_type": "code",
   "execution_count": null,
   "id": "381d76c5",
   "metadata": {},
   "outputs": [],
   "source": [
    "energy_df.plot(figsize=(12,6))"
   ]
  },
  {
   "cell_type": "code",
   "execution_count": null,
   "id": "87877d8c",
   "metadata": {},
   "outputs": [],
   "source": [
    "results = seasonal_decompose(energy_df['hvac_S'])\n",
    "results.plot();"
   ]
  },
  {
   "cell_type": "code",
   "execution_count": null,
   "id": "5a42d79b",
   "metadata": {},
   "outputs": [],
   "source": [
    "len(energy_df)"
   ]
  },
  {
   "cell_type": "code",
   "execution_count": null,
   "id": "95eeaf93",
   "metadata": {},
   "outputs": [],
   "source": [
    "# Calculate the number of data points for each set\n",
    "total_data_points = len(df)\n",
    "train_size = int(total_data_points * 0.8)\n",
    "validation_size = int(total_data_points * 0.1)\n",
    "\n",
    "# Split the data\n",
    "train_data = energy_df.iloc[:train_size]\n",
    "validation_data = energy_df.iloc[train_size: train_size + validation_size]\n",
    "test_data = energy_df.iloc[train_size + validation_size:]\n",
    "\n",
    "# Print the sizes of each set\n",
    "print(f\"Train set size: {len(train_data)} data points\")\n",
    "print(f\"Validation set size: {len(validation_data)} data points\")\n",
    "print(f\"Test set size: {len(test_data)} data points\")"
   ]
  },
  {
   "cell_type": "code",
   "execution_count": null,
   "id": "f76331ef",
   "metadata": {},
   "outputs": [],
   "source": [
    "# Scale the data for modeling\n",
    "scaler = MinMaxScaler()"
   ]
  },
  {
   "cell_type": "code",
   "execution_count": null,
   "id": "a62188e6",
   "metadata": {},
   "outputs": [],
   "source": [
    "scaler.fit(train_data)\n",
    "scaled_train = scaler.transform(train_data)\n",
    "scaled_val = scaler.transform(validation_data)\n",
    "scaled_test = scaler.transform(test_data)"
   ]
  },
  {
   "cell_type": "code",
   "execution_count": null,
   "id": "5edf3210",
   "metadata": {},
   "outputs": [],
   "source": [
    "len(df.columns)"
   ]
  },
  {
   "cell_type": "code",
   "execution_count": null,
   "id": "aa1f97e4",
   "metadata": {},
   "outputs": [],
   "source": [
    "# Define generator\n",
    "n_input = 12 # how many hours to train the data\n",
    "n_features = 1\n",
    "generator = TimeseriesGenerator(scaled_train, scaled_train, length=n_input, batch_size=10)"
   ]
  },
  {
   "cell_type": "code",
   "execution_count": null,
   "id": "381beef8",
   "metadata": {
    "scrolled": true
   },
   "outputs": [],
   "source": [
    "X,y = generator[0]\n",
    "print(f'Given the Array: \\n{X.flatten()}')\n",
    "print(f'Predict this y: \\n{y}')"
   ]
  },
  {
   "cell_type": "code",
   "execution_count": null,
   "id": "9923efa9",
   "metadata": {},
   "outputs": [],
   "source": [
    "X.shape"
   ]
  },
  {
   "cell_type": "code",
   "execution_count": null,
   "id": "0f438172",
   "metadata": {},
   "outputs": [],
   "source": [
    "# Build the LSTM model\n",
    "model = Sequential()\n",
    "model.add(LSTM(100, activation='relu',input_shape=(n_input, n_features)))\n",
    "model.add(Dense(1))\n",
    "model.compile(optimizer='adam', loss='mse')"
   ]
  },
  {
   "cell_type": "code",
   "execution_count": null,
   "id": "83140e93",
   "metadata": {},
   "outputs": [],
   "source": [
    "model.summary()"
   ]
  },
  {
   "cell_type": "code",
   "execution_count": null,
   "id": "da5be5c2",
   "metadata": {
    "scrolled": true
   },
   "outputs": [],
   "source": [
    "# Train the model\n",
    "model.fit(generator, epochs=10)"
   ]
  },
  {
   "cell_type": "code",
   "execution_count": null,
   "id": "aa2af6b4",
   "metadata": {},
   "outputs": [],
   "source": [
    "loss_per_epoch = model.history.history['loss']\n",
    "plt.plot(range(len(loss_per_epoch)),loss_per_epoch) "
   ]
  },
  {
   "cell_type": "code",
   "execution_count": null,
   "id": "d5aec109",
   "metadata": {},
   "outputs": [],
   "source": [
    "# Take the last 12 training values to make a prediction on the next set\n",
    "last_train_batch = scaled_train[-12:]\n",
    "last_train_batch = last_train_batch.reshape((1,n_input,n_features))"
   ]
  },
  {
   "cell_type": "code",
   "execution_count": null,
   "id": "eb7247ae",
   "metadata": {},
   "outputs": [],
   "source": [
    "# Make predictions\n",
    "model.predict(last_train_batch)"
   ]
  },
  {
   "cell_type": "code",
   "execution_count": null,
   "id": "f79468fd",
   "metadata": {},
   "outputs": [],
   "source": [
    "scaled_test[0]"
   ]
  },
  {
   "cell_type": "code",
   "execution_count": null,
   "id": "8d33f4c0",
   "metadata": {},
   "outputs": [],
   "source": [
    "# Compare the test set to test predictions\n",
    "test_predictions = []\n",
    "\n",
    "first_eval_batch = scaled_train[-n_input:]\n",
    "current_batch = first_eval_batch.reshape((1,n_input,n_features))\n",
    "\n",
    "for i in range(len(test_data)):\n",
    "    \n",
    "    current_pred = model.predict(current_batch)[0]\n",
    "    \n",
    "    test_predictions.append(current_pred)\n",
    "    \n",
    "    current_batch = np.append(current_batch[:,1:,:],[[current_pred]],axis=1)"
   ]
  },
  {
   "cell_type": "code",
   "execution_count": null,
   "id": "429f6d63",
   "metadata": {},
   "outputs": [],
   "source": [
    "# Plot both predictions \n",
    "true_predictions = scaler.inverse_transform(test_predictions)\n",
    "\n",
    "test_data['Predictions'] = true_predictions\n",
    "\n",
    "test_data.plot(figsize=(12,6))"
   ]
  },
  {
   "cell_type": "code",
   "execution_count": null,
   "id": "718f7459",
   "metadata": {},
   "outputs": [],
   "source": [
    "# Model performance\n",
    "rmse=sqrt(mean_squared_error(test_data['hvac_S'],test_data['Predictions']))\n",
    "print(rmse)"
   ]
  }
 ],
 "metadata": {
  "kernelspec": {
   "display_name": "Python 3 (ipykernel)",
   "language": "python",
   "name": "python3"
  },
  "language_info": {
   "codemirror_mode": {
    "name": "ipython",
    "version": 3
   },
   "file_extension": ".py",
   "mimetype": "text/x-python",
   "name": "python",
   "nbconvert_exporter": "python",
   "pygments_lexer": "ipython3",
   "version": "3.9.7"
  }
 },
 "nbformat": 4,
 "nbformat_minor": 5
}
